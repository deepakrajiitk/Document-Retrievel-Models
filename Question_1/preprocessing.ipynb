{
 "cells": [
  {
   "cell_type": "markdown",
   "id": "3eccebe5",
   "metadata": {},
   "source": [
    "### Importing libraries"
   ]
  },
  {
   "cell_type": "code",
   "execution_count": 35,
   "id": "b9e22835",
   "metadata": {},
   "outputs": [],
   "source": [
    "import glob\n",
    "import os\n",
    "import re\n",
    "from collections import Counter\n",
    "import numpy as np\n",
    "import nltk\n",
    "import sys\n",
    "import math\n",
    "from nltk.corpus import stopwords\n",
    "from nltk.stem import PorterStemmer"
   ]
  },
  {
   "cell_type": "markdown",
   "id": "d6f64710",
   "metadata": {},
   "source": [
    "### Importing files"
   ]
  },
  {
   "cell_type": "code",
   "execution_count": 36,
   "id": "024b8349",
   "metadata": {},
   "outputs": [],
   "source": [
    "path = sys.path[0] + '/../english-corpora'\n",
    "files = glob.glob(path + '/**/*.txt', \n",
    "                   recursive = True)\n",
    "n_docs = len(files)"
   ]
  },
  {
   "cell_type": "code",
   "execution_count": 37,
   "id": "dd558819",
   "metadata": {},
   "outputs": [
    {
     "data": {
      "text/plain": [
       "0"
      ]
     },
     "execution_count": 37,
     "metadata": {},
     "output_type": "execute_result"
    }
   ],
   "source": [
    "n_docs"
   ]
  },
  {
   "cell_type": "code",
   "execution_count": 38,
   "id": "2888197a",
   "metadata": {},
   "outputs": [],
   "source": [
    "files = sorted(files)"
   ]
  },
  {
   "cell_type": "code",
   "execution_count": 39,
   "id": "c0544b08",
   "metadata": {},
   "outputs": [],
   "source": [
    "# mapping of int to file name for better access of files\n",
    "file_index={}\n",
    "i=0\n",
    "for file in files:\n",
    "    file_index[i] = file[18:]\n",
    "    i+=1"
   ]
  },
  {
   "cell_type": "code",
   "execution_count": 40,
   "id": "c07b8275",
   "metadata": {},
   "outputs": [],
   "source": [
    "# getting all documents in a list\n",
    "docs = []\n",
    "for i in range(n_docs):\n",
    "    docs.append(open(files[i], encoding=\"utf8\").read())"
   ]
  },
  {
   "cell_type": "code",
   "execution_count": 41,
   "id": "eef22e78",
   "metadata": {},
   "outputs": [],
   "source": [
    "stemmer = PorterStemmer()"
   ]
  },
  {
   "cell_type": "markdown",
   "id": "013e2102",
   "metadata": {},
   "source": [
    "### cleaning documents"
   ]
  },
  {
   "cell_type": "markdown",
   "id": "88eebe87",
   "metadata": {},
   "source": [
    "- Steps used to clean documents:\n",
    "    - removing all characters except a-z, A-Z and 0-9 using ‘re’ library\n",
    "    - changing all cases letters to lower case\n",
    "    - tokenization using ‘split’\n",
    "    - removing all stopwords\n",
    "    - lemmatization using ntlk library"
   ]
  },
  {
   "cell_type": "code",
   "execution_count": 42,
   "id": "d0792a46",
   "metadata": {},
   "outputs": [],
   "source": [
    "# list which stores all cleaned documents\n",
    "clean_docs = []\n",
    "# list which stores no of words in each document \n",
    "docs_nwords_list = []\n",
    "all_words = np.array([])\n",
    "for doc in docs:\n",
    "#     removing all characters expect a-z, A-Z and 0-9 using regular expression\n",
    "    doc = re.sub('[^a-zA-Z0-9]',' ',doc)\n",
    "#     changing all cases to lower case\n",
    "    doc = doc.lower()\n",
    "#     this step will give all the words as tokens\n",
    "    doc = doc.split()\n",
    "#     1. removes all stop words\n",
    "#     2. performs lemmatization using standard library\n",
    "    doc = np.array([stemmer.stem(word) for word in doc if not word in set(stopwords.words('english'))])\n",
    "#     docs_nwords_list.append(doc.size)\n",
    "    clean_docs.append(doc)"
   ]
  },
  {
   "cell_type": "markdown",
   "id": "951ced4d",
   "metadata": {},
   "source": [
    "### Creating required lists or dictionaries"
   ]
  },
  {
   "cell_type": "code",
   "execution_count": 43,
   "id": "b61ebd3b",
   "metadata": {},
   "outputs": [],
   "source": [
    "main_dict = {} # main dictionary whose keys are all the unique words and the value is a dictionary containing file id as key and frequency of that word as value\n",
    "# format => {word : {fid : frequency}}\n",
    "norm_list = [] # list containing norm of each document \n",
    "i=0\n",
    "for doc in clean_docs:\n",
    "#     counter library is used to find the frequency of each word in a particular document\n",
    "    words_freq_dict = Counter(doc) \n",
    "#     finding norm of each document\n",
    "    values = np.array(list(words_freq_dict.values()))\n",
    "    norm = np.linalg.norm(values)\n",
    "    norm_list.append(norm)\n",
    "#     creating main dictionary\n",
    "    for key in words_freq_dict.keys():\n",
    "        if key in main_dict.keys():\n",
    "            main_dict[key].update({i:words_freq_dict[key]})\n",
    "        else:\n",
    "            main_dict[key] = {i: words_freq_dict[key]}\n",
    "    i+=1"
   ]
  },
  {
   "cell_type": "code",
   "execution_count": 44,
   "id": "cbfb21b4",
   "metadata": {},
   "outputs": [],
   "source": [
    "# main_dict"
   ]
  },
  {
   "cell_type": "code",
   "execution_count": 45,
   "id": "c7bd2bdf",
   "metadata": {},
   "outputs": [],
   "source": [
    "# norm_list"
   ]
  },
  {
   "cell_type": "markdown",
   "id": "edef63c3",
   "metadata": {},
   "source": [
    "### Creating pickle file"
   ]
  },
  {
   "cell_type": "code",
   "execution_count": 46,
   "id": "811ffbf0",
   "metadata": {},
   "outputs": [
    {
     "name": "stdout",
     "output_type": "stream",
     "text": [
      "pickle file created successfully\n"
     ]
    }
   ],
   "source": [
    "import pickle\n",
    "database = {}\n",
    "database['main_dict'] = main_dict\n",
    "database['norm_list'] = norm_list\n",
    "database['docs_nwords_list'] = docs_nwords_list\n",
    "database['n_docs'] = n_docs\n",
    "database['file_index'] = file_index\n",
    "dbfile = open('pickle_data', 'ab')\n",
    "pickle.dump(database, dbfile)\n",
    "dbfile.close()\n",
    "print(\"pickle file created successfully\")"
   ]
  }
 ],
 "metadata": {
  "kernelspec": {
   "display_name": "Python 3",
   "language": "python",
   "name": "python3"
  },
  "language_info": {
   "codemirror_mode": {
    "name": "ipython",
    "version": 3
   },
   "file_extension": ".py",
   "mimetype": "text/x-python",
   "name": "python",
   "nbconvert_exporter": "python",
   "pygments_lexer": "ipython3",
   "version": "3.8.8"
  }
 },
 "nbformat": 4,
 "nbformat_minor": 5
}
